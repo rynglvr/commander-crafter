{
 "cells": [
  {
   "cell_type": "code",
   "execution_count": 1,
   "id": "4f9ae4af-20e0-4bc9-b14b-ceb7023df87e",
   "metadata": {},
   "outputs": [
    {
     "name": "stdout",
     "output_type": "stream",
     "text": [
      "MTG Commander Recommendation System - Step 1 Complete!\n",
      "============================================================\n",
      "Project Structure Created:\n",
      "📁 data/raw/ - Place your CSV files here\n",
      "📁 data/processed/ - Processed data will go here\n",
      "📁 notebooks/ - Save this notebook here\n",
      "📁 src/ - Python modules\n",
      "📁 models/ - Trained models\n",
      "📁 app/ - Web application\n",
      "============================================================\n",
      "\n",
      "🚀 Ready for Step 2: Data Loading and Exploration!\n",
      "\n",
      "📋 Action Items:\n",
      "1. Place creature_recommendations_clean.csv in data/raw/\n",
      "2. Place all_creatures_clean.csv in data/raw/\n",
      "3. Save this notebook as '01_initial_setup.ipynb' in the notebooks/ folder\n",
      "4. Confirm setup is working by running this cell\n"
     ]
    }
   ],
   "source": [
    "# MTG Commander Recommendation System - Initial Data Exploration\n",
    "# Step 1: Setup and Data Loading\n",
    "\n",
    "import pandas as pd\n",
    "import numpy as np\n",
    "import matplotlib.pyplot as plt\n",
    "import seaborn as sns\n",
    "from collections import Counter\n",
    "import ast\n",
    "import warnings\n",
    "warnings.filterwarnings('ignore')\n",
    "\n",
    "# Set display options\n",
    "pd.set_option('display.max_columns', None)\n",
    "pd.set_option('display.max_rows', 100)\n",
    "\n",
    "# Set plotting style\n",
    "plt.style.use('default')\n",
    "sns.set_palette(\"husl\")\n",
    "\n",
    "print(\"MTG Commander Recommendation System - Step 1 Complete!\")\n",
    "print(\"=\" * 60)\n",
    "print(\"Project Structure Created:\")\n",
    "print(\"📁 data/raw/ - Place your CSV files here\")\n",
    "print(\"📁 data/processed/ - Processed data will go here\") \n",
    "print(\"📁 notebooks/ - Save this notebook here\")\n",
    "print(\"📁 src/ - Python modules\")\n",
    "print(\"📁 models/ - Trained models\")\n",
    "print(\"📁 app/ - Web application\")\n",
    "print(\"=\" * 60)\n",
    "\n",
    "# TODO: Next steps will include:\n",
    "# 1. Load and explore the CSV files\n",
    "# 2. Data cleaning and preprocessing\n",
    "# 3. Feature engineering for ML model\n",
    "# 4. Model development with TensorFlow\n",
    "# 5. Web app development\n",
    "\n",
    "print(\"\\n🚀 Ready for Step 2: Data Loading and Exploration!\")\n",
    "print(\"\\n📋 Action Items:\")\n",
    "print(\"1. Place creature_recommendations_clean.csv in data/raw/\")\n",
    "print(\"2. Place all_creatures_clean.csv in data/raw/\")\n",
    "print(\"3. Save this notebook as '01_initial_setup.ipynb' in the notebooks/ folder\")\n",
    "print(\"4. Confirm setup is working by running this cell\")"
   ]
  },
  {
   "cell_type": "code",
   "execution_count": null,
   "id": "c212add8-1198-491c-a4d5-fe2452c97d6f",
   "metadata": {},
   "outputs": [],
   "source": []
  }
 ],
 "metadata": {
  "kernelspec": {
   "display_name": "Python 3 (ipykernel)",
   "language": "python",
   "name": "python3"
  },
  "language_info": {
   "codemirror_mode": {
    "name": "ipython",
    "version": 3
   },
   "file_extension": ".py",
   "mimetype": "text/x-python",
   "name": "python",
   "nbconvert_exporter": "python",
   "pygments_lexer": "ipython3",
   "version": "3.10.18"
  }
 },
 "nbformat": 4,
 "nbformat_minor": 5
}
