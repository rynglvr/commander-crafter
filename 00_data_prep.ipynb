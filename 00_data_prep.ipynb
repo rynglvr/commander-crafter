{
 "cells": [
  {
   "cell_type": "code",
   "execution_count": 41,
   "id": "50fbef29-c574-4aa1-b4f6-c707d6b6f316",
   "metadata": {},
   "outputs": [],
   "source": [
    "import duckdb\n",
    "import pandas as pd\n",
    "import json\n",
    "\n",
    "conn = duckdb.connect()\n",
    "\n",
    "query = \"\"\"\n",
    "        SELECT DISTINCT name\n",
    "        , id\n",
    "        , oracle_id\n",
    "        , edhrec_rank\n",
    "        , mana_cost\n",
    "        , cmc\n",
    "        , CASE \n",
    "            WHEN LOWER(type_line) LIKE '%creature%' THEN 'Creature' \n",
    "            WHEN LOWER(type_line) LIKE '%artifact%' THEN 'Artifact' \n",
    "            WHEN LOWER(type_line) LIKE '%enchantment%' THEN 'Enchantment' \n",
    "            WHEN LOWER(type_line) LIKE '%planeswalker%' THEN 'Planeswalker' \n",
    "            WHEN LOWER(type_line) LIKE '%battle%' THEN 'Battle' \n",
    "            WHEN LOWER(type_line) LIKE '%land%' THEN 'Land' \n",
    "            WHEN LOWER(type_line) LIKE '%instant%' THEN 'Instant' \n",
    "            WHEN LOWER(type_line) LIKE '%sorcery%' THEN 'Sorcery' \n",
    "            ELSE type_line END as primary_type\n",
    "        , concat('[',replace(split_part(trim(type_line), '— ', 2),' ',', '),']') as secondary_type\n",
    "        , regexp_replace(regexp_replace(oracle_text, '\\([^)]*\\)', '', 'g'),'\\s+', ' ', 'g') AS oracle_text\n",
    "        , color_identity\n",
    "        , keywords\n",
    "        , CASE WHEN power LIKE '%*%' THEN NULL ELSE power END as power\n",
    "        , CASE WHEN toughness LIKE '%*%' THEN NULL ELSE toughness END as toughness\n",
    "        , scryfall_uri\n",
    "        , CASE \n",
    "            WHEN prices.usd IS NOT NULL \n",
    "            THEN CAST(prices.usd AS DECIMAL(10,2))\n",
    "            ELSE NULL END as usd_price\n",
    "        , image_uris.png as png_url\n",
    "    FROM read_json_auto('data/raw/oracle-cards.json')\n",
    "    WHERE layout = 'normal'\n",
    "        AND legalities.commander = 'legal'\n",
    "        AND (LOWER(type_line) LIKE '%creature%' OR LOWER(oracle_text) LIKE '%can be your commander%')\n",
    "\"\"\"\n",
    "\n",
    "conn.execute(f\"COPY ({query}) TO 'data/raw/all_creatures_clean.csv' (HEADER, DELIMITER ',')\")\n",
    "\n",
    "conn.close()"
   ]
  },
  {
   "cell_type": "code",
   "execution_count": null,
   "id": "c94de9f3-3432-4305-b178-ed846e371efc",
   "metadata": {},
   "outputs": [],
   "source": []
  }
 ],
 "metadata": {
  "kernelspec": {
   "display_name": "Python 3 (ipykernel)",
   "language": "python",
   "name": "python3"
  },
  "language_info": {
   "codemirror_mode": {
    "name": "ipython",
    "version": 3
   },
   "file_extension": ".py",
   "mimetype": "text/x-python",
   "name": "python",
   "nbconvert_exporter": "python",
   "pygments_lexer": "ipython3",
   "version": "3.10.18"
  }
 },
 "nbformat": 4,
 "nbformat_minor": 5
}
